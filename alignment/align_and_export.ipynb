{
 "cells": [
  {
   "cell_type": "markdown",
   "metadata": {},
   "source": [
    "### Alignment\n",
    "\n",
    "An example of how we aligned samples for mCREATE. This aligns FASTQ files against an expected variant template, and then exports the counts and enrichment of one sample over another."
   ]
  },
  {
   "cell_type": "code",
   "execution_count": null,
   "metadata": {},
   "outputs": [],
   "source": [
    "import os\n",
    "\n",
    "from pepars.fileio import fileio\n",
    "\n",
    "from protfarm.workspace import Workspace as ws\n",
    "from protfarm.workspace import Database as db\n",
    "from protfarm.workspace import FASTQ_File as FASTQ_File\n",
    "from protfarm.workspace import Library\n",
    "from protfarm.workspace import Template\n",
    "from protfarm.workspace import Alignment\n",
    "from protfarm.analysis import Analysis_Set"
   ]
  },
  {
   "cell_type": "code",
   "execution_count": null,
   "metadata": {},
   "outputs": [],
   "source": [
    "# The data path represents the location of all protein engineering sequencing experiments\n",
    "DATA_PATH = (\"example_data\")\n",
    "\n",
    "# Each experiment is given its own name and subdirectory in the DATA PATH\n",
    "# An experiment is a group of samples, all using the same variant region\n",
    "EXPERIMENT_NAME = \"mCREATE\"\n",
    "\n",
    "TEMPLATE_SEQUENCE = \"XXXXXXXXXXXXXXXXXXXXXXXXXXXXXXXXXXXXXXXGAGTGCCCAANNKNNKNNKNNKNNKNNKNNKGCACAGGCGCXXXXXXXXXXXXXXXXXXXX\"\n",
    "TEMPLATE_NAME = \"7-mer NNK Insertion Position 56\"\n",
    "\n",
    "VARIANT_QUALITY_THRESHOLD = 30\n",
    "MISMATCH_QUALITY_THRESHOLD = 20\n",
    "\n",
    "# Currently, only Perfect_Match_Aligner is functional\n",
    "ALIGNMENT_METHOD = \"Perfect_Match_Aligner\"\n",
    "\n",
    "# A map of samples and the FASTQ files associated with each - this can be entered manually or read\n",
    "# in from an Excel sheet\n",
    "SAMPLE_FASTQ_FILES = {\n",
    "    \"sample_1\": [\"sample_1.fastq.gz\"],\n",
    "    \"sample_2\": [\"sample_2.fastq.gz\"]\n",
    "}"
   ]
  },
  {
   "cell_type": "code",
   "execution_count": null,
   "metadata": {},
   "outputs": [],
   "source": [
    "# Set the data and experiment path\n",
    "ws.set_data_path(DATA_PATH)\n",
    "ws.set_experiment(EXPERIMENT_NAME)"
   ]
  },
  {
   "cell_type": "code",
   "execution_count": null,
   "metadata": {},
   "outputs": [],
   "source": [
    "# Seed our experiment with some FASTQ files to download\n",
    "REMOTE_FILES = [\n",
    "    (\"https://caltech.box.com/shared/static/5a1zi1pawtn1x15tupr1pub01wqa5kfg.gz\", \"sample_1.fastq.gz\"),\n",
    "    (\"https://caltech.box.com/shared/static/fvu4uq3bjuur2hufjlzit0ijt3m1ji2i.gz\", \"sample_2.fastq.gz\")\n",
    "]\n",
    "\n",
    "for remote_file_URL, local_file_name in REMOTE_FILES:\n",
    "    \n",
    "    # FASTQ files go in the raw data folder\n",
    "    FASTQ_file_path = ws.get_raw_data_path(local_file_name)\n",
    "\n",
    "    # This downloads the file, but only if it doesn't already exist\n",
    "    fileio.download_remote_file(remote_file_URL, FASTQ_file_path)\n",
    "\n",
    "# Reload the workspace to get the newly added FASTQ file\n",
    "ws.set_experiment(EXPERIMENT_NAME)"
   ]
  },
  {
   "cell_type": "code",
   "execution_count": null,
   "metadata": {},
   "outputs": [],
   "source": [
    "# Create libraries and associate FASTQ files for each of them\n",
    "for sample_name, FASTQ_file_names in SAMPLE_FASTQ_FILES.items():\n",
    "    \n",
    "    try:\n",
    "        library = Library(sample_name)\n",
    "    except Exception as e:\n",
    "        library = db.get_library(sample_name)\n",
    "\n",
    "    for FASTQ_file_name in FASTQ_file_names:\n",
    "        library.add_file(FASTQ_file_name)"
   ]
  },
  {
   "cell_type": "code",
   "execution_count": null,
   "metadata": {},
   "outputs": [],
   "source": [
    "try:\n",
    "    template = Template(TEMPLATE_SEQUENCE, name=TEMPLATE_NAME)\n",
    "except Exception:\n",
    "    template = db.get_template_by_name(TEMPLATE_NAME)"
   ]
  },
  {
   "cell_type": "code",
   "execution_count": null,
   "metadata": {},
   "outputs": [],
   "source": [
    "sample_templates = {}\n",
    "\n",
    "for sample in db.get_samples():\n",
    "    sample_templates[sample.id] = template.id\n",
    "\n",
    "alignment_parameters = {\n",
    "    \"mismatch_quality_threshold\": MISMATCH_QUALITY_THRESHOLD,\n",
    "    \"variant_sequence_quality_threshold\": VARIANT_QUALITY_THRESHOLD\n",
    "}\n",
    "\n",
    "try:\n",
    "    alignment = Alignment(ALIGNMENT_METHOD,\n",
    "                          parameters=alignment_parameters,\n",
    "                          library_templates=sample_templates)\n",
    "except ValueError as e:\n",
    "    print(e)\n",
    "    alignment = db.get_alignment_by_parameters(ALIGNMENT_METHOD, alignment_parameters, sample_templates)"
   ]
  },
  {
   "cell_type": "code",
   "execution_count": null,
   "metadata": {},
   "outputs": [],
   "source": [
    "# Align all will align all unaligned samples\n",
    "ws.align_all(print)"
   ]
  },
  {
   "cell_type": "code",
   "execution_count": null,
   "metadata": {},
   "outputs": [],
   "source": [
    "# Get the results of this alignment and print the alignment statistics\n",
    "\n",
    "alignment = db.get_alignments()[0]\n",
    "\n",
    "for sample_id in alignment.statistics:\n",
    "    \n",
    "    sample_name = db.get_library_by_id(sample_id).name\n",
    "    \n",
    "    print(\"Alignment statistics for '%s'\" % sample_name)\n",
    "    \n",
    "    for key, value in alignment.statistics[sample_id].items():\n",
    "    \n",
    "        print(\"%s: %.4f\" % (key, value))\n",
    "        \n",
    "    print(\"\")"
   ]
  },
  {
   "cell_type": "code",
   "execution_count": null,
   "metadata": {},
   "outputs": [],
   "source": [
    "# This exports all alignment statistics to a file alignment_statistics.csv in the export folder\n",
    "ws.export_alignment_statistics()\n",
    "\n",
    "ws.set_active_alignment(alignment)"
   ]
  },
  {
   "cell_type": "code",
   "execution_count": null,
   "metadata": {},
   "outputs": [],
   "source": [
    "STARTING_SAMPLE_NAME = \"sample_1\"\n",
    "ENRICHED_SAMPLE_NAME = \"sample_2\"\n",
    "\n",
    "# Whether to collapse sequences that are similar (off by one nucleotide)\n",
    "COLLAPSE_SIMILAR_SEQUENCES = False\n",
    "\n",
    "# The name of the file to export\n",
    "EXPORT_FILE_NAME = \"example_enrichment.csv\"\n",
    "\n",
    "# The minimum count a sequence must have across all samples to be considered in analysis\n",
    "COUNT_THRESHOLD = 0"
   ]
  },
  {
   "cell_type": "code",
   "execution_count": null,
   "metadata": {},
   "outputs": [],
   "source": [
    "# Now we create an Analysis Set - this is a set of samples used for analysis\n",
    "analysis_set = Analysis_Set()\n",
    "\n",
    "analysis_set.add_sample(STARTING_SAMPLE_NAME)\n",
    "analysis_set.add_sample(ENRICHED_SAMPLE_NAME)"
   ]
  },
  {
   "cell_type": "code",
   "execution_count": null,
   "metadata": {},
   "outputs": [],
   "source": [
    "if COLLAPSE_SIMILAR_SEQUENCES:\n",
    "    for sequence_library_name, sequence_library in analysis_set.get_libraries().items():\n",
    "        sequence_library.collapse_sequence_counts()"
   ]
  },
  {
   "cell_type": "code",
   "execution_count": null,
   "metadata": {},
   "outputs": [],
   "source": [
    "# This calculates the enrichment of each sample with respect to the starting sample, and exports it to a file\n",
    "analysis_set.export_enrichment_specificity(\n",
    "    EXPORT_FILE_NAME,\n",
    "    STARTING_SAMPLE_NAME,\n",
    "    libraries_to_compare_names=None,\n",
    "    count_threshold=COUNT_THRESHOLD)"
   ]
  },
  {
   "cell_type": "code",
   "execution_count": null,
   "metadata": {},
   "outputs": [],
   "source": []
  }
 ],
 "metadata": {
  "kernelspec": {
   "display_name": "Python 3",
   "language": "python",
   "name": "python3"
  },
  "language_info": {
   "codemirror_mode": {
    "name": "ipython",
    "version": 3
   },
   "file_extension": ".py",
   "mimetype": "text/x-python",
   "name": "python",
   "nbconvert_exporter": "python",
   "pygments_lexer": "ipython3",
   "version": "3.6.7"
  }
 },
 "nbformat": 4,
 "nbformat_minor": 2
}
