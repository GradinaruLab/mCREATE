{
 "cells": [
  {
   "cell_type": "code",
   "execution_count": 1,
   "metadata": {
    "collapsed": true
   },
   "outputs": [],
   "source": [
    "import os\n",
    "import numpy as np\n",
    "import pandas as pd\n",
    "\n",
    "#generates overlapping forward and reverse primers for AAV9 variants \n",
    "#with 587-590 residues modified by 7 amino acid insertion plus 4 amino acid substitution."
   ]
  },
  {
   "cell_type": "code",
   "execution_count": null,
   "metadata": {
    "collapsed": true
   },
   "outputs": [],
   "source": [
    "#USER PARAMETERS\n",
    "#copy the path of the destination folder where the input data is stored.\n",
    "WORKSPACE_DIRECTORY = \"example_data\"\n",
    "INPUT_FILE_NAME = \"variantsequencelist.xlsx\"   #enter the list of variant sequences as given in the example file.\n",
    "SEQUENCE_COLUMN_NAME = \"Variant\"\n",
    "AMINOACID_COLUMN_NAME = \"Aminoacid\"\n",
    "OUTPUT_FILE_NAME = \"variantprimerlist.xlsx\"    #generates an output file with forward and reverse primers.\n"
   ]
  },
  {
   "cell_type": "code",
   "execution_count": 2,
   "metadata": {
    "collapsed": true
   },
   "outputs": [],
   "source": [
    "#function to generate reverse complementary sequence\n",
    "\n",
    "def reverse_complement(dna):\n",
    "    complement = {'A': 'T', 'C': 'G', 'G': 'C', 'T': 'A' }\n",
    "    return ''.join([complement[base] for base in reversed(dna)])\n"
   ]
  },
  {
   "cell_type": "code",
   "execution_count": null,
   "metadata": {
    "collapsed": true
   },
   "outputs": [],
   "source": [
    "file1 = os.path.join(WORKSPACE_DIRECTORY, INPUT_FILE_NAME)\n",
    "\n",
    "df = pd.read_excel(file1)\n",
    "df['Reverse_complement']= df[SEQUENCE_COLUMN_NAME].apply(reverse_complement)   #generates the reverse complement of a given sequence\n",
    "Fwd_fiveprime = 'GGAGTCCTATGGACAAGTGGCCACAAACCACCAGAGT'\n",
    "Rev_fiveprime = 'TTCCTTGGTTTTGAACCCAACCGGTCTGCGC'\n",
    "slice = df[SEQUENCE_COLUMN_NAME].str.slice(0,21)\n",
    "#print(slice)\n",
    "df['Fwd primer'] = Fwd_fiveprime+slice    #generates a column of forward primers\n",
    "df['Rev primer'] = Rev_fiveprime+df.Reverse_complement    #generates a column of reverse primers\n",
    "df.to_excel(OUTPUT_FILE_NAME)"
   ]
  }
 ],
 "metadata": {
  "kernelspec": {
   "display_name": "Python 3",
   "language": "python",
   "name": "python3"
  },
  "language_info": {
   "codemirror_mode": {
    "name": "ipython",
    "version": 3
   },
   "file_extension": ".py",
   "mimetype": "text/x-python",
   "name": "python",
   "nbconvert_exporter": "python",
   "pygments_lexer": "ipython3",
   "version": "3.6.1"
  }
 },
 "nbformat": 4,
 "nbformat_minor": 2
}
