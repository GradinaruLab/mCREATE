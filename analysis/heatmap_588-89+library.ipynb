{
 "cells": [
  {
   "cell_type": "code",
   "execution_count": null,
   "metadata": {},
   "outputs": [],
   "source": [
    "import pandas as pd\n",
    "from peseq.analysis import heat\n",
    "from peseq.utils import DNA\n",
    "import numpy as np\n",
    "import os\n",
    "\n",
    "%matplotlib inline\n",
    "import matplotlib\n",
    "matplotlib.rcParams['figure.figsize'] = [12, 10]"
   ]
  },
  {
   "cell_type": "code",
   "execution_count": null,
   "metadata": {},
   "outputs": [],
   "source": [
    "# User parameters\n",
    "\n",
    "#set your path, where your variant Excel file is located\n",
    "WORKSPACE_DIRECTORY = \"example_data/\"\n",
    "\n",
    "# The name of your variant Excel file\n",
    "FILE_NAME = \"filex.xlsx\"\n",
    "\n",
    "# optional, sort a library 'column_name1\" by decreasing order of its value or enrichment score.\n",
    "# Set to none if sorting is not needed\n",
    "SORTED_COLUMN_NAME = \"Library1_enrichment\"\n",
    "# SORTED_COLUMN_NAME = None\n",
    "\n",
    "# File name of sorted output, if desired\n",
    "USE_ENRICHMENT_SCORE = True\n",
    "\n",
    "#if you want to add multiple libraries by summing all enrichment scores together, use this code. Otherwise comment this.\n",
    "ENRICHMENT_COLUMN_NAMES = [\"Library1_enrichment\", \"Library2_enrichment\"]\n",
    "\n",
    "#input the number of sequences you want to include from your library. Since my library is sorted, number 25 is looking at top 25 enriched sequences from a specific library.\n",
    "NUM_SEQUENCES = 2\n",
    "\n",
    "#mention the column name that has the list of amino acid sequences from that library\n",
    "SEQUENCE_COLUMN_NAME = \"7mer_Amino Acid\"\n",
    "\n",
    "# Choose which template to use for normalization\n",
    "TEMPLATE = \"7-mer-i NNK\"\n",
    "# TEMPLATE = \"3-mer-s XXX\"\n",
    "\n",
    "#type the number of diversified region( 7 for 7mer-i library)\n",
    "SEQUENCE_LENGTH= 7\n",
    "#SEQUENCE_LENGTH=11 # for 11mer seq #input the length of your diversified sequence (this case its a 11-mer)\n",
    "\n",
    "# Name of the file for outputting the amino acid position frequencies\n",
    "OUTPUT_FILE_NAME = 'library-top25.csv'\n",
    "\n",
    "# Title for the inline heatmaps\n",
    "HEATMAP_TITLE = \"Library 1 and 2 AA distribution\""
   ]
  },
  {
   "cell_type": "code",
   "execution_count": null,
   "metadata": {},
   "outputs": [],
   "source": [
    "file = os.path.join(WORKSPACE_DIRECTORY, FILE_NAME)\n",
    "df = pd.read_excel(file)\n",
    "# df.head()"
   ]
  },
  {
   "cell_type": "code",
   "execution_count": null,
   "metadata": {},
   "outputs": [],
   "source": [
    "if SORTED_COLUMN_NAME:\n",
    "    df.sort_values(by=SORTED_COLUMN_NAME, ascending=False)\n",
    "    \n",
    "    if not USE_ENRICHMENT_SCORE:\n",
    "        df['seq_1'] = 1     #assign an equal score of 1 to all the variants in the library to disregard the enrichment score in heatmap analysis.\n",
    "#     df.to_csv('R2_DNA_Virus_pool_dna20_virus20_seq1.csv')   #optional"
   ]
  },
  {
   "cell_type": "code",
   "execution_count": null,
   "metadata": {},
   "outputs": [],
   "source": [
    "columns = DNA.get_amino_acids()\n",
    "print(columns)"
   ]
  },
  {
   "cell_type": "code",
   "execution_count": null,
   "metadata": {},
   "outputs": [],
   "source": [
    "Rows = list(range(SEQUENCE_LENGTH))[::-1]\n",
    "print(Rows)"
   ]
  },
  {
   "cell_type": "code",
   "execution_count": null,
   "metadata": {},
   "outputs": [],
   "source": [
    "table = np.zeros((SEQUENCE_LENGTH, len(columns)))\n",
    "# print(table)"
   ]
  },
  {
   "cell_type": "code",
   "execution_count": null,
   "metadata": {
    "scrolled": true
   },
   "outputs": [],
   "source": [
    "table = np.zeros((SEQUENCE_LENGTH, len(columns)))\n",
    "for i in range(NUM_SEQUENCES):\n",
    "    \n",
    "    # If we're not using the enrichment score, then use an equal score for all variants\n",
    "    if not USE_ENRICHMENT_SCORE:\n",
    "        #this line specifies the library that is used to generate heatmap with equal enrichment score for 25 sequences. set yours.\n",
    "        enrich = df.iloc[i,:]['seq_1']\n",
    "    else:\n",
    "        enrich = df.iloc[i,:][ENRICHMENT_COLUMN_NAMES[0]]\n",
    "        for column in ENRICHMENT_COLUMN_NAMES[1:]:\n",
    "            enrich += df.iloc[i,:][column]\n",
    "    aminoacid = df.iloc[i,:][SEQUENCE_COLUMN_NAME]  \n",
    "    #print(aminoacid)\n",
    "    for j in range(NUM_SEQUENCES):\n",
    "        col = aminoacid[j]\n",
    "        pos = columns.index(col)\n",
    "        #print(col,pos)\n",
    "        table[j,pos]+= enrich\n",
    "print(table)    "
   ]
  },
  {
   "cell_type": "code",
   "execution_count": null,
   "metadata": {},
   "outputs": [],
   "source": [
    "heatmap = heat.heatmap(title=HEATMAP_TITLE,data=table,y_labels=Rows,x_labels=columns)\n",
    "heat.heatmap.draw(heatmap)"
   ]
  },
  {
   "cell_type": "code",
   "execution_count": null,
   "metadata": {},
   "outputs": [],
   "source": [
    "#normalization\n",
    "\n",
    "if TEMPLATE == \"7-mer-i NNK\":\n",
    "    natural_frequency = np.array([0.063,0.031,0.031,0.031,0.031,0.063,0.031,0.031,0.031,0.094,0.031,0.031,0.063,0.031,0.094,0.094,0.063,0.063,0.031,0.063])\n",
    "elif TEMPLATE == \"3-mer-s XXX\":\n",
    "    natural_frequency = np.array([[0.187, 0.031, 0.031, 0.031, 0.031, 0.063, 0.031, 0.031, 0.031, 0.094, 0.031, 0.031, 0.063, 0.031, 0.094, 0.094, 0.063, 0.063, 0.031, 0.063],\n",
    "                      [0.063, 0.031, 0.031, 0.031, 0.031, 0.063, 0.031, 0.031, 0.031, 0.094, 0.031, 0.031, 0.063, 0.155, 0.094, 0.094, 0.063, 0.063, 0.031, 0.063],\n",
    "                      [0.126, 0.062, 0.062, 0.062, 0.062, 0.126, 0.062, 0.062, 0.062, 0.188, 0.062, 0.062, 0.126, 0.062, 0.188, 0.188, 0.219, 0.126, 0.062, 0.126],\n",
    "                      [0.063, 0.031, 0.031, 0.031, 0.031, 0.063, 0.031, 0.031, 0.031, 0.218, 0.031, 0.031, 0.063, 0.031, 0.094, 0.094, 0.063, 0.063, 0.031, 0.063], \n",
    "                      [0.219, 0.062, 0.062, 0.062, 0.062, 0.126, 0.062, 0.062, 0.062, 0.188, 0.062, 0.062, 0.126, 0.062, 0.188, 0.188, 0.126, 0.126, 0.062, 0.126], \n",
    "                      [0.063, 0.031, 0.031, 0.031, 0.031, 0.063, 0.031, 0.031, 0.031, 0.094, 0.031, 0.031, 0.063, 0.031, 0.094, 0.094, 0.063, 0.187, 0.031, 0.063],\n",
    "                      [0.126, 0.062, 0.062, 0.062, 0.062, 0.126, 0.062, 0.062, 0.062, 0.188, 0.062, 0.062, 0.219, 0.062, 0.188, 0.188, 0.126, 0.126, 0.062, 0.126],\n",
    "                      [0.063, 0.031, 0.031, 0.031, 0.155, 0.063, 0.031, 0.031, 0.031, 0.094, 0.031, 0.031, 0.063, 0.031, 0.094, 0.094, 0.063, 0.063, 0.031, 0.063],\n",
    "                      [0.126, 0.062, 0.062, 0.062, 0.062, 0.126, 0.062, 0.062, 0.155, 0.188, 0.062, 0.062, 0.126, 0.062, 0.188, 0.188, 0.126, 0.126, 0.062, 0.126],\n",
    "                      [0.187, 0.031, 0.031, 0.031, 0.031, 0.063, 0.031, 0.031, 0.031, 0.094, 0.031, 0.031, 0.063, 0.031, 0.094, 0.094, 0.063, 0.063, 0.031, 0.063],\n",
    "                      [0.063, 0.031, 0.031, 0.031, 0.031, 0.063, 0.031, 0.031, 0.031, 0.094, 0.031, 0.031, 0.063, 0.155, 0.094, 0.094, 0.063, 0.063, 0.031, 0.063]])\n",
    "\n",
    "table_norm = np.divide(table, natural_frequency)\n",
    "print(table_norm)"
   ]
  },
  {
   "cell_type": "code",
   "execution_count": null,
   "metadata": {},
   "outputs": [],
   "source": [
    "#optional plot heatmap at the level of normalization.\n",
    "heatmap_norm = heat.heatmap(title=HEATMAP_TITLE + \" normalized\",data=table_norm,y_labels=Rows,x_labels=columns)\n",
    "heat.heatmap.draw(heatmap_norm)"
   ]
  },
  {
   "cell_type": "code",
   "execution_count": null,
   "metadata": {},
   "outputs": [],
   "source": [
    "#standardization\n",
    "table_standardized = (table_norm - np.mean(table_norm)) / np.std(table_norm)\n",
    "print(table_standardized)\n",
    "table_standardized = pd.DataFrame(table_standardized)\n",
    "table_standardized.columns = columns\n",
    "pd.DataFrame.to_csv(table_standardized, OUTPUT_FILE_NAME)\n",
    "\n",
    "#heatmap generation\n",
    "heatmap1std = heat.heatmap(title=HEATMAP_TITLE + \" normalized and standardized\",data=table_standardized,y_labels=Rows,x_labels=columns)\n",
    "heat.heatmap.draw(heatmap1std)"
   ]
  },
  {
   "cell_type": "code",
   "execution_count": null,
   "metadata": {},
   "outputs": [],
   "source": []
  }
 ],
 "metadata": {
  "kernelspec": {
   "display_name": "Python 3",
   "language": "python",
   "name": "python3"
  },
  "language_info": {
   "codemirror_mode": {
    "name": "ipython",
    "version": 3
   },
   "file_extension": ".py",
   "mimetype": "text/x-python",
   "name": "python",
   "nbconvert_exporter": "python",
   "pygments_lexer": "ipython3",
   "version": "3.6.7"
  }
 },
 "nbformat": 4,
 "nbformat_minor": 2
}
