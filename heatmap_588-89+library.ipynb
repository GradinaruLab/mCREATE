{
 "cells": [
  {
   "cell_type": "code",
   "execution_count": 2,
   "metadata": {
    "collapsed": true
   },
   "outputs": [],
   "source": [
    "import pandas as pd\n",
    "from analysis import heat\n",
    "from utils import DNA\n",
    "import numpy as np\n",
    "workspace_directory = \"D:\\\\Priya_heatmap\\\\\"     #set your path"
   ]
  },
  {
   "cell_type": "code",
   "execution_count": 3,
   "metadata": {
    "collapsed": true
   },
   "outputs": [],
   "source": [
    "file = workspace_directory + \"filex.xlsx\"    #set your file name\n",
    "df = pd.read_excel(file)\n",
    "#df.head()  "
   ]
  },
  {
   "cell_type": "code",
   "execution_count": 4,
   "metadata": {
    "collapsed": true
   },
   "outputs": [],
   "source": [
    "#optional, sort a library 'column_name1\" by decreasing order of its value or enrichment score.\n",
    "df.sort_values(by='column_name1', ascending=False)\n",
    "df['seq_1'] = 1     #assign an equal score of 1 to all the variants in the library to disregard the enrichment score in heatmap analysis.\n",
    "#df.to_csv('R2_DNA_Virus_pool_dna20_virus20_seq1.csv')   #optional\n"
   ]
  },
  {
   "cell_type": "code",
   "execution_count": 5,
   "metadata": {
    "collapsed": true
   },
   "outputs": [],
   "source": [
    "columns = DNA.get_amino_acids()\n",
    "#print(columns)"
   ]
  },
  {
   "cell_type": "code",
   "execution_count": 6,
   "metadata": {
    "collapsed": true
   },
   "outputs": [],
   "source": [
    "N= 7 #type the number of diversified region( 7 for 7mer-i library)\n",
    "#N=11 # for 11mer seq #input the length of your diversified sequence (this case its a 11-mer)\n",
    "Rows = list(range(N))[::-1]\n",
    "#print(Rows)"
   ]
  },
  {
   "cell_type": "code",
   "execution_count": 7,
   "metadata": {
    "collapsed": true
   },
   "outputs": [],
   "source": [
    "table = np.zeros((N, len(columns)))\n",
    "#print(table)"
   ]
  },
  {
   "cell_type": "code",
   "execution_count": 8,
   "metadata": {
    "scrolled": true
   },
   "outputs": [
    {
     "name": "stdout",
     "output_type": "stream",
     "text": [
      "[[  2.   0.   0.   1.   0.   1.   0.   2.   0.   1.   0.   0.   1.   1.\n",
      "    3.   1.   7.   3.   2.   0.]\n",
      " [  3.   0.   0.   0.   1.   0.   1.   2.   0.   2.   2.   1.   0.   1.\n",
      "    5.   2.   2.   1.   0.   2.]\n",
      " [  2.   0.   1.   1.   1.   0.   0.   1.   0.   2.   1.   1.   1.   3.\n",
      "    0.   2.   5.   4.   0.   0.]\n",
      " [  1.   0.   0.   0.   0.  10.   1.   1.   3.   0.   1.   1.   0.   0.\n",
      "    6.   0.   0.   1.   0.   0.]\n",
      " [  1.   0.   2.   1.   2.   1.   0.   0.   1.   1.   0.   0.  11.   0.\n",
      "    0.   0.   0.   0.   0.   5.]\n",
      " [  2.   0.   0.   0.  10.   1.   0.   0.   0.   0.   0.   1.   1.   0.\n",
      "    0.  10.   0.   0.   0.   0.]\n",
      " [  2.   0.   0.   0.   0.   0.   0.   3.   3.   7.   0.   0.   0.   4.\n",
      "    0.   3.   1.   1.   0.   1.]]\n"
     ]
    }
   ],
   "source": [
    "num_sequences = 25  #input the number of sequences you want to include from your library. Since my library is sorted, number 25 is looking at top 25 enriched sequences from a specific library.\n",
    "table = np.zeros((N, len(columns)))\n",
    "for i in range(num_sequences):\n",
    "    enrich = df.iloc[i,:]['seq_1']   #this line specifies the library that is used to generate heatmap with equal enrichment score for 25 sequences. set yours. \n",
    "    #enrich = Tekenrich.iloc[i,:]['Tek_mean_enrich']+ Tekenrich.iloc[i,:]['Synbrain-236 enrichment']    #if you want to add multiple libraries by summing all enrichment scores together, use this code. Otherwise comment this.\n",
    "    aminoacid = df.iloc[i,:]['7mer_Amino Acid']  #mention the column name that has the list of amino acid sequences from that library\n",
    "    #aminoacid = df.iloc[i,:]['11mer_AA'] #use the column header that has the list of 11-mer amino acids\n",
    "    #print(aminoacid)\n",
    "    for j in range(N):\n",
    "        col = aminoacid[j]\n",
    "        pos = columns.index(col)\n",
    "        #print(col,pos)\n",
    "        table[j,pos]+= enrich\n",
    "print(table)\n",
    "        "
   ]
  },
  {
   "cell_type": "code",
   "execution_count": 9,
   "metadata": {
    "collapsed": true
   },
   "outputs": [],
   "source": [
    "#heatmap = heat.heatmap(title='R2 oligopool synthetic library',data=table,y_labels=Rows,x_labels=columns)\n",
    "#heat.heatmap.draw(heatmap)"
   ]
  },
  {
   "cell_type": "code",
   "execution_count": 10,
   "metadata": {},
   "outputs": [
    {
     "name": "stdout",
     "output_type": "stream",
     "text": [
      "[[  31.74603175    0.            0.           32.25806452    0.\n",
      "    15.87301587    0.           64.51612903    0.           10.63829787\n",
      "     0.            0.           15.87301587   32.25806452   31.91489362\n",
      "    10.63829787  111.11111111   47.61904762   64.51612903    0.        ]\n",
      " [  47.61904762    0.            0.            0.           32.25806452\n",
      "     0.           32.25806452   64.51612903    0.           21.27659574\n",
      "    64.51612903   32.25806452    0.           32.25806452   53.19148936\n",
      "    21.27659574   31.74603175   15.87301587    0.           31.74603175]\n",
      " [  31.74603175    0.           32.25806452   32.25806452   32.25806452\n",
      "     0.            0.           32.25806452    0.           21.27659574\n",
      "    32.25806452   32.25806452   15.87301587   96.77419355    0.\n",
      "    21.27659574   79.36507937   63.49206349    0.            0.        ]\n",
      " [  15.87301587    0.            0.            0.            0.\n",
      "   158.73015873   32.25806452   32.25806452   96.77419355    0.\n",
      "    32.25806452   32.25806452    0.            0.           63.82978723\n",
      "     0.            0.           15.87301587    0.            0.        ]\n",
      " [  15.87301587    0.           64.51612903   32.25806452   64.51612903\n",
      "    15.87301587    0.            0.           32.25806452   10.63829787\n",
      "     0.            0.          174.6031746     0.            0.            0.\n",
      "     0.            0.            0.           79.36507937]\n",
      " [  31.74603175    0.            0.            0.          322.58064516\n",
      "    15.87301587    0.            0.            0.            0.            0.\n",
      "    32.25806452   15.87301587    0.            0.          106.38297872\n",
      "     0.            0.            0.            0.        ]\n",
      " [  31.74603175    0.            0.            0.            0.            0.\n",
      "     0.           96.77419355   96.77419355   74.46808511    0.            0.\n",
      "     0.          129.03225806    0.           31.91489362   15.87301587\n",
      "    15.87301587    0.           15.87301587]]\n"
     ]
    }
   ],
   "source": [
    "#normalization\n",
    "natural_frequency = np.array([0.063,0.031,0.031,0.031,0.031,0.063,0.031,0.031,0.031,0.094,0.031,0.031,0.063,0.031,0.094,0.094,0.063,0.063,0.031,0.063])\n",
    "table_norm = np.divide(table, natural_frequency)\n",
    "print(table_norm)"
   ]
  },
  {
   "cell_type": "code",
   "execution_count": 11,
   "metadata": {
    "collapsed": true
   },
   "outputs": [],
   "source": [
    "#optional plot heatmap at the level of normalization.\n",
    "#heatmap_norm = heat.heatmap(title='R2 oligopool normalized synthetic library',data=table_norm,y_labels=Rows,x_labels=columns)\n",
    "#heat.heatmap.draw(heatmap_norm)"
   ]
  },
  {
   "cell_type": "code",
   "execution_count": 12,
   "metadata": {},
   "outputs": [
    {
     "name": "stdout",
     "output_type": "stream",
     "text": [
      "[[ 0.16598657 -0.59589757 -0.59589757  0.17827502 -0.59589757 -0.2149555\n",
      "  -0.59589757  0.95244761 -0.59589757 -0.34058533 -0.59589757 -0.59589757\n",
      "  -0.2149555   0.17827502  0.17003915 -0.34058533  2.07069691  0.54692864\n",
      "   0.95244761 -0.59589757]\n",
      " [ 0.54692864 -0.59589757 -0.59589757 -0.59589757  0.17827502 -0.59589757\n",
      "   0.17827502  0.95244761 -0.59589757 -0.08527309  0.95244761  0.17827502\n",
      "  -0.59589757  0.17827502  0.68066362 -0.08527309  0.16598657 -0.2149555\n",
      "  -0.59589757  0.16598657]\n",
      " [ 0.16598657 -0.59589757  0.17827502  0.17827502  0.17827502 -0.59589757\n",
      "  -0.59589757  0.17827502 -0.59589757 -0.08527309  0.17827502  0.17827502\n",
      "  -0.2149555   1.7266202  -0.59589757 -0.08527309  1.30881277  0.92787071\n",
      "  -0.59589757 -0.59589757]\n",
      " [-0.2149555  -0.59589757 -0.59589757 -0.59589757 -0.59589757  3.21352311\n",
      "   0.17827502  0.17827502  1.7266202  -0.59589757  0.17827502  0.17827502\n",
      "  -0.59589757 -0.59589757  0.93597586 -0.59589757 -0.59589757 -0.2149555\n",
      "  -0.59589757 -0.59589757]\n",
      " [-0.2149555  -0.59589757  0.95244761  0.17827502  0.95244761 -0.2149555\n",
      "  -0.59589757 -0.59589757  0.17827502 -0.34058533 -0.59589757 -0.59589757\n",
      "   3.59446518 -0.59589757 -0.59589757 -0.59589757 -0.59589757 -0.59589757\n",
      "  -0.59589757  1.30881277]\n",
      " [ 0.16598657 -0.59589757 -0.59589757 -0.59589757  7.14582833 -0.2149555\n",
      "  -0.59589757 -0.59589757 -0.59589757 -0.59589757 -0.59589757  0.17827502\n",
      "  -0.2149555  -0.59589757 -0.59589757  1.9572248  -0.59589757 -0.59589757\n",
      "  -0.59589757 -0.59589757]\n",
      " [ 0.16598657 -0.59589757 -0.59589757 -0.59589757 -0.59589757 -0.59589757\n",
      "  -0.59589757  1.7266202   1.7266202   1.19128809 -0.59589757 -0.59589757\n",
      "  -0.59589757  2.50079279 -0.59589757  0.17003915 -0.2149555  -0.2149555\n",
      "  -0.59589757 -0.2149555 ]]\n"
     ]
    }
   ],
   "source": [
    "#standardization\n",
    "table_standardized = (table_norm - np.mean(table_norm)) / np.std(table_norm)\n",
    "print(table_standardized)\n",
    "np.savetxt('librarydiv.txt',table_standardized)\n",
    "div = pd.read_csv('librarydiv.txt', sep=' ',header=None)\n",
    "div.to_csv('library-top25.csv')\n",
    "\n",
    "#heatmap generation\n",
    "#heatmap1std = heat.heatmap(title='R2 oligopool normalized and standardized',data=table_standardized,y_labels=Rows,x_labels=columns)\n",
    "#heat.heatmap.draw(heatmap1std)"
   ]
  }
 ],
 "metadata": {
  "kernelspec": {
   "display_name": "Python 3",
   "language": "python",
   "name": "python3"
  },
  "language_info": {
   "codemirror_mode": {
    "name": "ipython",
    "version": 3
   },
   "file_extension": ".py",
   "mimetype": "text/x-python",
   "name": "python",
   "nbconvert_exporter": "python",
   "pygments_lexer": "ipython3",
   "version": "3.6.1"
  }
 },
 "nbformat": 4,
 "nbformat_minor": 2
}
