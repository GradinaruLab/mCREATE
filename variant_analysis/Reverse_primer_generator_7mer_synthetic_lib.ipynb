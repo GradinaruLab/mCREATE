{
 "cells": [
  {
   "cell_type": "code",
   "execution_count": 1,
   "metadata": {},
   "outputs": [
    {
     "data": {
      "text/plain": [
       "\"\\nReverse primer generator for 588-589 7-mer-i synthetic library generation \\n\\nTEMPLATE: \\n5' to 3'\\ngtattccttggttttgaacccaAccggtctgcgcctgtgcMNNMNNMNNMNNMNNMNNMNNttgggcactctggtggtttgtg\\n\""
      ]
     },
     "execution_count": 1,
     "metadata": {},
     "output_type": "execute_result"
    }
   ],
   "source": [
    "#import libraries\n",
    "\n",
    "import pandas as pd\n",
    "import os\n",
    "\n",
    "\n",
    "\"\"\"\n",
    "Reverse primer generator for 588-589 7-mer-i synthetic library generation \n",
    "\n",
    "TEMPLATE: \n",
    "5' to 3'\n",
    "gtattccttggttttgaacccaAccggtctgcgcctgtgcMNNMNNMNNMNNMNNMNNMNNttgggcactctggtggtttgtg\n",
    "\"\"\""
   ]
  },
  {
   "cell_type": "code",
   "execution_count": null,
   "metadata": {
    "collapsed": true
   },
   "outputs": [],
   "source": [
    "#USER PARAMETERS\n",
    "#copy the path of the destination folder where the input data is stored.\n",
    "WORKSPACE_DIRECTORY = \"example_data\"\n",
    "INPUT_FILE_NAME = \"Sequencelist.xlsx\"\n",
    "SEQUENCE_COLUMN_NAME = \"Sequence\"\n",
    "AMINOACID_COLUMN_NAME = \"Aminoacid\"\n",
    "OUTPUT_FILE_NAME = \"Primerlist.xlsx\""
   ]
  },
  {
   "cell_type": "code",
   "execution_count": null,
   "metadata": {
    "collapsed": true
   },
   "outputs": [],
   "source": [
    "#function to generate reverse complementary sequence\n",
    "def reverse_complement(dna):\n",
    "    complement = {'A': 'T', 'C': 'G', 'G': 'C', 'T': 'A' }\n",
    "    return ''.join([complement[base] for base in reversed(dna)])"
   ]
  },
  {
   "cell_type": "code",
   "execution_count": null,
   "metadata": {
    "collapsed": true
   },
   "outputs": [],
   "source": [
    "#function to generate sequence with defined mammalian codons that is non-NNK format.\n",
    "#Alternate codon dictionary: codon optimized for mouse but avoids T and G in the last position\n",
    "#to keep the codons distinct from the NNK primer. Used Genscript codon table for mouse.\n",
    "def alternate_codon_dict(aminoacid):\n",
    "    dict = {'A':'GCC', 'C':'TGC', 'D':'GAC', 'E':'GAA', 'F':'TTC', 'G':'GGC',\n",
    "            'H':'CAC', 'I':'ATC', 'K':'AAA', 'L':'CTC', 'M':'ATG', 'N':'AAC', 'P':'CCC',\n",
    "            'Q':'CAA', 'R':'AGA', 'S':'AGC', 'T':'ACC', 'V':'GTC', 'W':'TGG', 'Y':'TAC'}\n",
    "    return ''.join([dict[codon] for codon in (aminoacid)])"
   ]
  },
  {
   "cell_type": "code",
   "execution_count": null,
   "metadata": {
    "collapsed": true
   },
   "outputs": [],
   "source": [
    "file1 = os.path.join(WORKSPACE_DIRECTORY, INPUT_FILE_NAME)\n",
    "\n",
    "df = pd.read_excel(file1)\n",
    "df['Reverse_complement']= df[SEQUENCE_COLUMN_NAME].apply(reverse_complement)  #generates reverse complementary sequence\n",
    "df['Alternate_codon']= df[AMINOACID_COLUMN_NAME].apply(alternate_codon_dict)  #generates sequence with alternate codons\n",
    "df['ReverseC_Alt_codon']= df['Alternate_codon'].apply(reverse_complement)  # generates reverse complementary sequence of alternate codons\n",
    "Rev_threeprime = 'TTGGGCACTCTGGTGGTTTGTG'\n",
    "Rev_fiveprime = 'GTATTCCTTGGTTTTGAACCCAACCGGTCTGCGCCTGTGC'\n",
    "df['Rev_primer'] = Rev_fiveprime+df.Reverse_complement+Rev_threeprime   #generates reverse primer for input sequences\n",
    "df['Alternate_Rev_primer']= Rev_fiveprime+df.ReverseC_Alt_codon+Rev_threeprime  #generates reverse primer for alternate codon sequences\n",
    "df.to_excel(OUTPUT_FILE_NAME)   \n",
    "\n",
    "\n",
    "#\"Rev_primer\" and \"Alternate_Rev_primer\" columns are the final output primers used for synthetic pool library.\n"
   ]
  },
  {
   "cell_type": "code",
   "execution_count": null,
   "metadata": {
    "collapsed": true
   },
   "outputs": [],
   "source": []
  },
  {
   "cell_type": "code",
   "execution_count": null,
   "metadata": {
    "collapsed": true
   },
   "outputs": [],
   "source": []
  }
 ],
 "metadata": {
  "kernelspec": {
   "display_name": "Python 3",
   "language": "python",
   "name": "python3"
  },
  "language_info": {
   "codemirror_mode": {
    "name": "ipython",
    "version": 3
   },
   "file_extension": ".py",
   "mimetype": "text/x-python",
   "name": "python",
   "nbconvert_exporter": "python",
   "pygments_lexer": "ipython3",
   "version": "3.6.1"
  }
 },
 "nbformat": 4,
 "nbformat_minor": 2
}
