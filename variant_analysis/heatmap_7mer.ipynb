{
 "cells": [
  {
   "cell_type": "code",
   "execution_count": null,
   "metadata": {},
   "outputs": [],
   "source": [
    "from pepars.analysis import DNA as DNA_analysis\n",
    "from pepars.utils import DNA as DNA_utils\n",
    "\n",
    "from pepars.plotting import plotting\n",
    "plotting.init_notebook_mode()\n",
    "from pepars.plotting import DNA as DNA_plotting\n",
    "\n",
    "from pepars.analysis import amino_acids as AA_analysis\n",
    "from pepars.analysis import statistics as virus_stats\n",
    "import pandas as pd\n",
    "\n",
    "from pepars.analysis import statistics"
   ]
  },
  {
   "cell_type": "code",
   "execution_count": null,
   "metadata": {},
   "outputs": [],
   "source": [
    "#R2 DNA vs oligopool\n",
    "workspace_directory = \"example_data/\" \n",
    "# Sample to base amino acid bias off of. If None, will use template probabilities instead\n",
    "input_file = workspace_directory + \"random_input_sequence_counts.xlsx\"    #set your file name\n",
    "input_df = pd.read_excel(input_file) \n",
    "input_df.head()"
   ]
  },
  {
   "cell_type": "code",
   "execution_count": null,
   "metadata": {},
   "outputs": [],
   "source": [
    "output_file = workspace_directory + \"random_output_sequence_counts.xlsx\"    #set your file name\n",
    "output_df = pd.read_excel(output_file) \n",
    "output_df.head()"
   ]
  },
  {
   "cell_type": "code",
   "execution_count": null,
   "metadata": {},
   "outputs": [],
   "source": [
    "sequence_counts_recovered = {}\n",
    "\n",
    "#call columns from output lib\n",
    "for row in output_df.iterrows():\n",
    "    sequence = row[1][\"Sequence\"]\n",
    "    count = row[1][\"Read Count\"]\n",
    "    \n",
    "    if sequence in sequence_counts_recovered:\n",
    "        sequence_counts_recovered[sequence] += count\n",
    "    else:\n",
    "        sequence_counts_recovered[sequence] = count\n",
    "        \n",
    "sample_amino_acid_counts_by_position_outputlib = AA_analysis.get_amino_acid_counts_by_position(sequence_counts_recovered)"
   ]
  },
  {
   "cell_type": "code",
   "execution_count": null,
   "metadata": {},
   "outputs": [],
   "source": [
    "sequence_counts_starting = {}\n",
    "#call columns from R2 synth virus file\n",
    "for row in input_df.iterrows():\n",
    "    sequence = row[1][\"Sequence\"]\n",
    "    count = row[1][\"Read Count\"]\n",
    "    \n",
    "    if sequence in sequence_counts_starting:\n",
    "        sequence_counts_starting[sequence] += count\n",
    "    else:\n",
    "        sequence_counts_starting[sequence] = count\n",
    "        \n",
    "sample_amino_acid_counts_by_position_inputlib = AA_analysis.get_amino_acid_counts_by_position(sequence_counts_starting)"
   ]
  },
  {
   "cell_type": "code",
   "execution_count": null,
   "metadata": {},
   "outputs": [],
   "source": [
    "# Set the p value threshold for plotting\n",
    "P_VALUE_THRESHOLD = 1e-4\n",
    "\n",
    "# Whether to invert the outline by crosshatch (True) or not (False)\n",
    "INVERT_OUTLINE = False"
   ]
  },
  {
   "cell_type": "code",
   "execution_count": null,
   "metadata": {},
   "outputs": [],
   "source": [
    "#plot signifance heatmap\n",
    "p_values, z_scores = virus_stats.get_significance_of_amino_acid_ratios(\n",
    "    sample_amino_acid_counts_by_position_outputlib, #set the numerator of the ratio\n",
    "    sample_amino_acid_counts_by_position_inputlib,  #set the denominator of the ratio\n",
    "    test_type=virus_stats.Test_Type.BINOMIAL_NORMAL_APPROXIMATION_LOG2,   #set the function\n",
    "    multiple_comparison_correction=True\n",
    ")\n",
    "\n",
    "figure=DNA_plotting.plot_signficant_amino_acid_biases(\n",
    "    z_scores.values,\n",
    "    p_values=p_values.values,\n",
    "    p_value_threshold=P_VALUE_THRESHOLD,\n",
    "    interactive=True,\n",
    "    invert_outline=INVERT_OUTLINE\n",
    ")"
   ]
  },
  {
   "cell_type": "code",
   "execution_count": null,
   "metadata": {},
   "outputs": [],
   "source": [
    "#use this if a specific input template is required\n",
    "starting_amino_acid_NNK = DNA_analysis.get_amino_acid_probabilities_from_template('NNKNNKNNKNNKNNKNNKNNK')\n",
    "\n",
    "#plot signifance heatmap\n",
    "p_values, z_scores = virus_stats.get_significance_of_amino_acid_ratios(\n",
    "    sample_amino_acid_counts_by_position_outputlib, #set the numerator of the ratio\n",
    "    starting_amino_acid_NNK,  #set the denominator of the ratio\n",
    "    test_type=virus_stats.Test_Type.BINOMIAL_NORMAL_APPROXIMATION_LOG2,   #set the function\n",
    "    multiple_comparison_correction=True\n",
    ")\n",
    "\n",
    "figure=DNA_plotting.plot_signficant_amino_acid_biases(\n",
    "    z_scores.values,\n",
    "    p_values=p_values.values,\n",
    "    p_value_threshold=P_VALUE_THRESHOLD,\n",
    "    interactive=True,\n",
    "    invert_outline=INVERT_OUTLINE\n",
    ")"
   ]
  },
  {
   "cell_type": "code",
   "execution_count": null,
   "metadata": {},
   "outputs": [],
   "source": []
  }
 ],
 "metadata": {
  "kernelspec": {
   "display_name": "Python 3",
   "language": "python",
   "name": "python3"
  },
  "language_info": {
   "codemirror_mode": {
    "name": "ipython",
    "version": 3
   },
   "file_extension": ".py",
   "mimetype": "text/x-python",
   "name": "python",
   "nbconvert_exporter": "python",
   "pygments_lexer": "ipython3",
   "version": "3.6.8"
  }
 },
 "nbformat": 4,
 "nbformat_minor": 2
}
